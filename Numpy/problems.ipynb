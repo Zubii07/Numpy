{
 "cells": [
  {
   "cell_type": "code",
   "execution_count": 2,
   "id": "fcd56d4f",
   "metadata": {},
   "outputs": [
    {
     "name": "stdout",
     "output_type": "stream",
     "text": [
      "[ 2  4  6  8 10 12 14 16 18 20]\n"
     ]
    }
   ],
   "source": [
    "## Create numpy array of even numbers from 2 to 20\n",
    "\n",
    "import numpy as np\n",
    "even_arr = np.arange(2,21,2)\n",
    "print(even_arr)"
   ]
  },
  {
   "cell_type": "code",
   "execution_count": 3,
   "id": "c27bfab0",
   "metadata": {},
   "outputs": [
    {
     "name": "stdout",
     "output_type": "stream",
     "text": [
      "[[1 2 3]\n",
      " [4 5 6]]\n"
     ]
    }
   ],
   "source": [
    "## Reshape a 1D array to 2D array\n",
    "arr = np.array([1, 2, 3, 4, 5, 6])\n",
    "reshaped_arr = arr.reshape(2, 3)\n",
    "print(reshaped_arr)"
   ]
  },
  {
   "cell_type": "code",
   "execution_count": 4,
   "id": "f72d1573",
   "metadata": {},
   "outputs": [
    {
     "name": "stdout",
     "output_type": "stream",
     "text": [
      "Element-wise addition: [11 22 33]\n",
      "Element-wise multiplication: [10 40 90]\n",
      "Element-wise division: [10. 10. 10.]\n"
     ]
    }
   ],
   "source": [
    "### Element wise operations\n",
    "a = np.array([10, 20, 30])\n",
    "b = np.array([1, 2, 3])\n",
    "\n",
    "## Element-wise addition\n",
    "c = a + b\n",
    "print(\"Element-wise addition:\", c)\n",
    "## Element-wise multiplication\n",
    "d = a * b\n",
    "print(\"Element-wise multiplication:\", d)\n",
    "## Element-wise division\n",
    "e = a / b\n",
    "print(\"Element-wise division:\", e)"
   ]
  },
  {
   "cell_type": "code",
   "execution_count": 5,
   "id": "e5213bc6",
   "metadata": {},
   "outputs": [
    {
     "name": "stdout",
     "output_type": "stream",
     "text": [
      "Max value: 10\n",
      "Index of max value: 3\n"
     ]
    }
   ],
   "source": [
    "## Find max and its index\n",
    "arr = np.array([4, 9, 2, 10, 7])\n",
    "max_value = np.max(arr)\n",
    "max_index = np.argmax(arr)\n",
    "print(\"Max value:\", max_value)\n",
    "print(\"Index of max value:\", max_index)"
   ]
  },
  {
   "cell_type": "code",
   "execution_count": 6,
   "id": "4e8fd132",
   "metadata": {},
   "outputs": [
    {
     "name": "stdout",
     "output_type": "stream",
     "text": [
      "Elements greater than 10: [15 20 25]\n"
     ]
    }
   ],
   "source": [
    "## Boolean extracting. Extract elements greater than 10\n",
    "\n",
    "arr = np.array([5, 10, 15, 20, 25])\n",
    "extracted = arr[arr > 10]\n",
    "print(\"Elements greater than 10:\", extracted)"
   ]
  },
  {
   "cell_type": "code",
   "execution_count": 7,
   "id": "797daa98",
   "metadata": {},
   "outputs": [
    {
     "name": "stdout",
     "output_type": "stream",
     "text": [
      "Normalized array: [0.   0.25 0.5  0.75 1.  ]\n"
     ]
    }
   ],
   "source": [
    "## Normalize numpy array\n",
    "arr = np.array([10, 20, 30, 40, 50])\n",
    "normalized_arr = (arr-arr.min()) / (arr.max() - arr.min())\n",
    "print(\"Normalized array:\", normalized_arr)"
   ]
  },
  {
   "cell_type": "code",
   "execution_count": 10,
   "id": "fda12e00",
   "metadata": {},
   "outputs": [
    {
     "name": "stdout",
     "output_type": "stream",
     "text": [
      "Array with odd numbers replaced by -1: [-1  2 -1  4 -1  6]\n"
     ]
    }
   ],
   "source": [
    "## Replace all odd numbers with -1\n",
    "arr = np.array([1, 2, 3, 4, 5, 6])\n",
    "replaced_arr = arr.copy()\n",
    "replaced_arr[replaced_arr % 2 == 1] = -1\n",
    "print(\"Array with odd numbers replaced by -1:\", replaced_arr)"
   ]
  },
  {
   "cell_type": "code",
   "execution_count": 11,
   "id": "38116d75",
   "metadata": {},
   "outputs": [
    {
     "name": "stdout",
     "output_type": "stream",
     "text": [
      "Common elements between a and b: [4 5]\n"
     ]
    }
   ],
   "source": [
    "## Get common elements between two arrays\n",
    "a = np.array([1, 2, 3, 4, 5])\n",
    "b = np.array([4, 5, 6, 7, 8])\n",
    "\n",
    "common_elements = np.intersect1d(a, b)\n",
    "print(\"Common elements between a and b:\", common_elements)"
   ]
  },
  {
   "cell_type": "code",
   "execution_count": 12,
   "id": "4b88c69f",
   "metadata": {},
   "outputs": [
    {
     "name": "stdout",
     "output_type": "stream",
     "text": [
      "[[0 1 2 3 4]\n",
      " [0 1 2 3 4]\n",
      " [0 1 2 3 4]\n",
      " [0 1 2 3 4]\n",
      " [0 1 2 3 4]]\n"
     ]
    }
   ],
   "source": [
    "### Create a 5x5 Matrix with Row Values from 0 to 4\n",
    "matrix = np.tile(np.arange(5), (5, 1))\n",
    "print(matrix)"
   ]
  },
  {
   "cell_type": "code",
   "execution_count": 15,
   "id": "8e8d11ea",
   "metadata": {},
   "outputs": [
    {
     "name": "stdout",
     "output_type": "stream",
     "text": [
      "Rows where first column > 10:\n",
      " [[20 25 30]\n",
      " [35 40 45]]\n"
     ]
    }
   ],
   "source": [
    "## Extract Rows with a Condition not use loop\n",
    "arr = np.array([\n",
    "    [5, 10, 15],\n",
    "    [20, 25, 30],\n",
    "    [35, 40, 45]\n",
    "])\n",
    "\n",
    "condition = arr[:, 0] > 10  # Condition on the first column\n",
    "extracted_rows = arr[condition]\n",
    "print(\"Rows where first column > 10:\\n\", extracted_rows)\n"
   ]
  },
  {
   "cell_type": "code",
   "execution_count": null,
   "id": "520907aa",
   "metadata": {},
   "outputs": [],
   "source": []
  }
 ],
 "metadata": {
  "kernelspec": {
   "display_name": ".venv",
   "language": "python",
   "name": "python3"
  },
  "language_info": {
   "codemirror_mode": {
    "name": "ipython",
    "version": 3
   },
   "file_extension": ".py",
   "mimetype": "text/x-python",
   "name": "python",
   "nbconvert_exporter": "python",
   "pygments_lexer": "ipython3",
   "version": "3.13.3"
  }
 },
 "nbformat": 4,
 "nbformat_minor": 5
}
