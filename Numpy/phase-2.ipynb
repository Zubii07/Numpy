{
 "cells": [
  {
   "cell_type": "markdown",
   "id": "468a98e1",
   "metadata": {},
   "source": [
    "### Sorting"
   ]
  },
  {
   "cell_type": "code",
   "execution_count": null,
   "id": "68c3f9a8",
   "metadata": {},
   "outputs": [
    {
     "name": "stdout",
     "output_type": "stream",
     "text": [
      "Sorted Array: [2 4 4 5 6 7 8]\n",
      "Sorted 2D Array:\n",
      " [[2 1 3]\n",
      " [4 4 5]\n",
      " [7 6 8]]\n"
     ]
    }
   ],
   "source": [
    "import numpy as np\n",
    "unsorted = np.array([2,4,5,4,6,8,7])\n",
    "print(\"Sorted Array:\", np.sort(unsorted))\n",
    "\n",
    "arr_2d_unsorted = np.array([[2, 4, 5], [4, 6, 8], [7, 1, 3]])\n",
    "print(\"Sorted 2D Array by column:\\n\", np.sort(arr_2d_unsorted, axis=0))"
   ]
  },
  {
   "cell_type": "markdown",
   "id": "7fccbced",
   "metadata": {},
   "source": [
    "### Filter"
   ]
  },
  {
   "cell_type": "code",
   "execution_count": 3,
   "id": "48f03de9",
   "metadata": {},
   "outputs": [
    {
     "name": "stdout",
     "output_type": "stream",
     "text": [
      "Even Numbers:  [ 2  4  6  8 10]\n"
     ]
    }
   ],
   "source": [
    "numbers = np.array([1,2,3,4,5,6,7,8,9,10])\n",
    "even_numbers = numbers[numbers % 2 == 0]\n",
    "print(\"Even Numbers: \", even_numbers)"
   ]
  },
  {
   "cell_type": "markdown",
   "id": "7e54b7f9",
   "metadata": {},
   "source": [
    "### Filter with mask"
   ]
  },
  {
   "cell_type": "code",
   "execution_count": null,
   "id": "2bb7adec",
   "metadata": {},
   "outputs": [
    {
     "name": "stdout",
     "output_type": "stream",
     "text": [
      "Numbers greater than 5:  [ 6  7  8  9 10]\n"
     ]
    }
   ],
   "source": [
    "mask = numbers > 5  # Mask is an expression that returns a boolean array\n",
    "print(\"Numbers greater than 5: \", numbers[mask])"
   ]
  },
  {
   "cell_type": "markdown",
   "id": "dffbfe9e",
   "metadata": {},
   "source": [
    "### Combined numpy Arrays"
   ]
  },
  {
   "cell_type": "code",
   "execution_count": 5,
   "id": "b9dcaeed",
   "metadata": {},
   "outputs": [
    {
     "name": "stdout",
     "output_type": "stream",
     "text": [
      "Concatenated Array: [ 1  2  3  4  5  6  7  8  9 10]\n"
     ]
    }
   ],
   "source": [
    "arr1 = np.array([1, 2, 3, 4, 5])\n",
    "arr2 = np.array([6, 7, 8, 9, 10])\n",
    "arr3 = np.concatenate((arr1, arr2))\n",
    "print(\"Concatenated Array:\", arr3)"
   ]
  },
  {
   "cell_type": "markdown",
   "id": "5030cf7a",
   "metadata": {},
   "source": [
    "### Compatible Array"
   ]
  },
  {
   "cell_type": "code",
   "execution_count": null,
   "id": "11e770a8",
   "metadata": {},
   "outputs": [
    {
     "name": "stdout",
     "output_type": "stream",
     "text": [
      "Array Compatibility Check: True\n"
     ]
    }
   ],
   "source": [
    "## Array Compatibility is about to check if two arrays are same in shape or not\n",
    "\n",
    "a = np.array([1, 2, 3])\n",
    "b = np.array([4, 5, 6])\n",
    "c = np.array([7, 8, 9])\n",
    "\n",
    "print(\"Array Compatibility Check:\", a.shape == b.shape)  "
   ]
  },
  {
   "cell_type": "code",
   "execution_count": null,
   "id": "7e53aaab",
   "metadata": {},
   "outputs": [
    {
     "name": "stdout",
     "output_type": "stream",
     "text": [
      "[[1 2]\n",
      " [3 4]]\n",
      "Array after adding new row:\n",
      " [[1 2]\n",
      " [3 4]\n",
      " [5 6]]\n",
      "Array after adding new column:\n",
      " [[1 2 7]\n",
      " [3 4 8]]\n"
     ]
    }
   ],
   "source": [
    "original = np.array([[1,2], [3,4]])\n",
    "new_row = np.array([[5,6]])\n",
    "with_new_row = np.vstack((original, new_row))  # vstack adds a new row(means vertical stack)\n",
    "print(original)\n",
    "print(\"Array after adding new row:\\n\", with_new_row)\n",
    "\n",
    "# Adding a new column to the original array\n",
    "new_column = np.array([[7], [8]])\n",
    "with_new_column = np.hstack((original, new_column)) # hstack adds a new column (means horizontal stack)\n",
    "print(\"Array after adding new column:\\n\", with_new_column)\n",
    "\n",
    "\n"
   ]
  },
  {
   "cell_type": "markdown",
   "id": "41a7fdb9",
   "metadata": {},
   "source": [
    "### Deletion"
   ]
  },
  {
   "cell_type": "code",
   "execution_count": 8,
   "id": "6dc8ec61",
   "metadata": {},
   "outputs": [
    {
     "name": "stdout",
     "output_type": "stream",
     "text": [
      "Original Array:\n",
      " [1 2 3 4 5]\n",
      "Array after Deletion:  [1 2 4 5]\n"
     ]
    }
   ],
   "source": [
    "arr = np.array([1,2,3,4,5])\n",
    "deletion = np.delete(arr, 2)  # Deletes the second element (index 2)\n",
    "print(\"Original Array:\\n\", arr)\n",
    "print(\"Array after Deletion: \", deletion)"
   ]
  }
 ],
 "metadata": {
  "kernelspec": {
   "display_name": ".venv",
   "language": "python",
   "name": "python3"
  },
  "language_info": {
   "codemirror_mode": {
    "name": "ipython",
    "version": 3
   },
   "file_extension": ".py",
   "mimetype": "text/x-python",
   "name": "python",
   "nbconvert_exporter": "python",
   "pygments_lexer": "ipython3",
   "version": "3.13.3"
  }
 },
 "nbformat": 4,
 "nbformat_minor": 5
}
