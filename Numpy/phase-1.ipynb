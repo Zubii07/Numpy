{
 "cells": [
  {
   "cell_type": "markdown",
   "id": "5cd7cb8f",
   "metadata": {},
   "source": [
    "### Creating arrays from scratch"
   ]
  },
  {
   "cell_type": "code",
   "execution_count": null,
   "id": "4b3143d9",
   "metadata": {},
   "outputs": [],
   "source": [
    "import numpy as np"
   ]
  },
  {
   "cell_type": "code",
   "execution_count": null,
   "id": "03ea3304",
   "metadata": {},
   "outputs": [
    {
     "name": "stdout",
     "output_type": "stream",
     "text": [
      "zeros array:\n",
      " [[0. 0. 0. 0.]\n",
      " [0. 0. 0. 0.]\n",
      " [0. 0. 0. 0.]]\n",
      "ones array:\n",
      " [[1. 1. 1.]\n",
      " [1. 1. 1.]\n",
      " [1. 1. 1.]]\n",
      "full array:\n",
      " [[7 7]\n",
      " [7 7]]\n",
      "random array:\n",
      " [[0.83271297 0.73897494]\n",
      " [0.75337889 0.48908547]]\n",
      "sequence array:\n",
      " [0 2 4 6 8]\n"
     ]
    }
   ],
   "source": [
    "import numpy as np\n",
    "zeros = np.zeros((3, 4))\n",
    "print(\"zeros array:\\n\", zeros)\n",
    "\n",
    "\n",
    "ones = np.ones((3, 3))\n",
    "print(\"ones array:\\n\", ones)\n",
    "\n",
    "full = np.full((2, 2), 7)\n",
    "print(\"full array:\\n\", full)\n",
    "\n",
    "\n",
    "random = np.random.random((2, 2))\n",
    "print(\"random array:\\n\", random)\n",
    "\n",
    "\n",
    "sequence = np.arange(0, 10, 2)  # [start, stop, step] means 0 to 10 with step of 2\n",
    "\n",
    "print(\"sequence array:\\n\", sequence)"
   ]
  },
  {
   "cell_type": "code",
   "execution_count": null,
   "id": "4e34853b",
   "metadata": {},
   "outputs": [],
   "source": []
  }
 ],
 "metadata": {
  "kernelspec": {
   "display_name": ".venv",
   "language": "python",
   "name": "python3"
  },
  "language_info": {
   "codemirror_mode": {
    "name": "ipython",
    "version": 3
   },
   "file_extension": ".py",
   "mimetype": "text/x-python",
   "name": "python",
   "nbconvert_exporter": "python",
   "pygments_lexer": "ipython3",
   "version": "3.13.3"
  }
 },
 "nbformat": 4,
 "nbformat_minor": 5
}
